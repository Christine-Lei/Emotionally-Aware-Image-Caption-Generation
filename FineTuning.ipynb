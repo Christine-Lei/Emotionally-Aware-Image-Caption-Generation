{
 "cells": [
  {
   "cell_type": "code",
   "execution_count": 28,
   "id": "16c252cc-3cec-416d-813c-07e6b439eee1",
   "metadata": {},
   "outputs": [],
   "source": [
    "from project_configs import ImageProcessor, StudentModel, TeacherModel, NUM_EMOTIONS"
   ]
  },
  {
   "cell_type": "code",
   "execution_count": 25,
   "id": "2cb289bc-beda-4ba0-91ed-005c576cd287",
   "metadata": {},
   "outputs": [],
   "source": [
    "import os\n",
    "import numpy as np\n",
    "import pandas as pd\n",
    "\n",
    "import torch\n",
    "from torch.utils.data import Dataset, DataLoader\n",
    "import torch.nn as nn\n",
    "\n",
    "import pickle\n",
    "\n",
    "from transformers import BertTokenizer, VisualBertModel,  BertConfig, BertModel"
   ]
  },
  {
   "cell_type": "markdown",
   "id": "d90d9795-e069-4cc9-88de-677bda9337ab",
   "metadata": {},
   "source": [
    "## View Configuration of Teacher Model"
   ]
  },
  {
   "cell_type": "code",
   "execution_count": 3,
   "id": "099ab693-f365-4163-a740-614d13fa49ec",
   "metadata": {},
   "outputs": [],
   "source": [
    "visualbert_model = VisualBertModel.from_pretrained(\"uclanlp/visualbert-vqa-coco-pre\")"
   ]
  },
  {
   "cell_type": "code",
   "execution_count": 4,
   "id": "657a31ff-cd0d-4b0a-8ddd-a6fd0da344f5",
   "metadata": {},
   "outputs": [],
   "source": [
    "for param in visualbert_model.parameters():\n",
    "    param.requires_grad = False"
   ]
  },
  {
   "cell_type": "code",
   "execution_count": 5,
   "id": "bc6e6c53-1985-4668-a274-0aafbad7d54a",
   "metadata": {},
   "outputs": [
    {
     "name": "stdout",
     "output_type": "stream",
     "text": [
      "TeacherModel(\n",
      "  (visualbert): VisualBertModel(\n",
      "    (embeddings): VisualBertEmbeddings(\n",
      "      (word_embeddings): Embedding(30522, 768, padding_idx=1)\n",
      "      (position_embeddings): Embedding(512, 768)\n",
      "      (token_type_embeddings): Embedding(2, 768)\n",
      "      (LayerNorm): LayerNorm((768,), eps=1e-12, elementwise_affine=True)\n",
      "      (dropout): Dropout(p=0.1, inplace=False)\n",
      "      (visual_token_type_embeddings): Embedding(2, 768)\n",
      "      (visual_position_embeddings): Embedding(512, 768)\n",
      "      (visual_projection): Linear(in_features=2048, out_features=768, bias=True)\n",
      "    )\n",
      "    (encoder): VisualBertEncoder(\n",
      "      (layer): ModuleList(\n",
      "        (0-11): 12 x VisualBertLayer(\n",
      "          (attention): VisualBertAttention(\n",
      "            (self): VisualBertSelfAttention(\n",
      "              (query): Linear(in_features=768, out_features=768, bias=True)\n",
      "              (key): Linear(in_features=768, out_features=768, bias=True)\n",
      "              (value): Linear(in_features=768, out_features=768, bias=True)\n",
      "              (dropout): Dropout(p=0.1, inplace=False)\n",
      "            )\n",
      "            (output): VisualBertSelfOutput(\n",
      "              (dense): Linear(in_features=768, out_features=768, bias=True)\n",
      "              (LayerNorm): LayerNorm((768,), eps=1e-12, elementwise_affine=True)\n",
      "              (dropout): Dropout(p=0.1, inplace=False)\n",
      "            )\n",
      "          )\n",
      "          (intermediate): VisualBertIntermediate(\n",
      "            (dense): Linear(in_features=768, out_features=3072, bias=True)\n",
      "            (intermediate_act_fn): GELUActivation()\n",
      "          )\n",
      "          (output): VisualBertOutput(\n",
      "            (dense): Linear(in_features=3072, out_features=768, bias=True)\n",
      "            (LayerNorm): LayerNorm((768,), eps=1e-12, elementwise_affine=True)\n",
      "            (dropout): Dropout(p=0.1, inplace=False)\n",
      "          )\n",
      "        )\n",
      "      )\n",
      "    )\n",
      "    (pooler): VisualBertPooler(\n",
      "      (dense): Linear(in_features=768, out_features=768, bias=True)\n",
      "      (activation): Tanh()\n",
      "    )\n",
      "  )\n",
      "  (fc): Linear(in_features=768, out_features=29, bias=True)\n",
      ")\n"
     ]
    }
   ],
   "source": [
    "# Load the trained teacher model\n",
    "teacher_model = TeacherModel(visualbert_model)\n",
    "\n",
    "# Load the state_dict of the model from the .pth file\n",
    "teacher_model_path = 'trained_teacher_model.pth'\n",
    "state_dict = torch.load(teacher_model_path)\n",
    "\n",
    "# Load the state_dict into the model\n",
    "teacher_model.load_state_dict(state_dict)\n",
    "\n",
    "# Print the model architecture\n",
    "print(teacher_model)"
   ]
  },
  {
   "cell_type": "markdown",
   "id": "293f1a77-b3e0-49fa-9839-ccf8e44bcc79",
   "metadata": {},
   "source": [
    "## View Configuration of Student Model"
   ]
  },
  {
   "cell_type": "code",
   "execution_count": 6,
   "id": "58813534-e574-4628-a828-857c9a2d277f",
   "metadata": {},
   "outputs": [
    {
     "name": "stdout",
     "output_type": "stream",
     "text": [
      "StudentModel(\n",
      "  (visualbert): VisualBertModel(\n",
      "    (embeddings): VisualBertEmbeddings(\n",
      "      (word_embeddings): Embedding(30522, 768, padding_idx=1)\n",
      "      (position_embeddings): Embedding(512, 768)\n",
      "      (token_type_embeddings): Embedding(2, 768)\n",
      "      (LayerNorm): LayerNorm((768,), eps=1e-12, elementwise_affine=True)\n",
      "      (dropout): Dropout(p=0.1, inplace=False)\n",
      "      (visual_token_type_embeddings): Embedding(2, 768)\n",
      "      (visual_position_embeddings): Embedding(512, 768)\n",
      "      (visual_projection): Linear(in_features=2048, out_features=768, bias=True)\n",
      "    )\n",
      "    (encoder): VisualBertEncoder(\n",
      "      (layer): ModuleList(\n",
      "        (0-11): 12 x VisualBertLayer(\n",
      "          (attention): VisualBertAttention(\n",
      "            (self): VisualBertSelfAttention(\n",
      "              (query): Linear(in_features=768, out_features=768, bias=True)\n",
      "              (key): Linear(in_features=768, out_features=768, bias=True)\n",
      "              (value): Linear(in_features=768, out_features=768, bias=True)\n",
      "              (dropout): Dropout(p=0.1, inplace=False)\n",
      "            )\n",
      "            (output): VisualBertSelfOutput(\n",
      "              (dense): Linear(in_features=768, out_features=768, bias=True)\n",
      "              (LayerNorm): LayerNorm((768,), eps=1e-12, elementwise_affine=True)\n",
      "              (dropout): Dropout(p=0.1, inplace=False)\n",
      "            )\n",
      "          )\n",
      "          (intermediate): VisualBertIntermediate(\n",
      "            (dense): Linear(in_features=768, out_features=3072, bias=True)\n",
      "            (intermediate_act_fn): GELUActivation()\n",
      "          )\n",
      "          (output): VisualBertOutput(\n",
      "            (dense): Linear(in_features=3072, out_features=768, bias=True)\n",
      "            (LayerNorm): LayerNorm((768,), eps=1e-12, elementwise_affine=True)\n",
      "            (dropout): Dropout(p=0.1, inplace=False)\n",
      "          )\n",
      "        )\n",
      "      )\n",
      "    )\n",
      "    (pooler): VisualBertPooler(\n",
      "      (dense): Linear(in_features=768, out_features=768, bias=True)\n",
      "      (activation): Tanh()\n",
      "    )\n",
      "  )\n",
      "  (fc): Linear(in_features=768, out_features=29, bias=True)\n",
      ")\n"
     ]
    }
   ],
   "source": [
    "# Load the trained teacher model\n",
    "student_model = StudentModel(visualbert_model)\n",
    "\n",
    "# Load the state_dict of the model from the .pth file\n",
    "student_model_path = 'trained_student_model.pth'\n",
    "state_dict = torch.load(student_model_path)\n",
    "\n",
    "# Load the state_dict into the model\n",
    "student_model.load_state_dict(state_dict)\n",
    "\n",
    "# Print the model architecture\n",
    "print(student_model)"
   ]
  },
  {
   "cell_type": "markdown",
   "id": "499c5d74-a3e5-4f4c-93d4-06695a2f49d8",
   "metadata": {},
   "source": [
    "# Transfer Learning Overview\n",
    "Given our source dataset, COCO (A), and target dataset, Socratis (B), we will experiment with 2 finetuning approaches based on [Yosinski et al](https://proceedings.neurips.cc/paper_files/paper/2014/file/375c71349b295fbe2dcdca9206f20a06-Paper.pdf). In both cases, initialize the parameters of the teacher model (B) with the pre-trained weights of the student model (A).\n",
    "- AnB: finetuning but keeping all the layers frozen\n",
    "- AnB+: finetuning but not freezing the layers "
   ]
  },
  {
   "cell_type": "markdown",
   "id": "71047c3d-5c75-4a46-9f89-bee662e3f324",
   "metadata": {},
   "source": [
    "## Load Datasets A and B"
   ]
  },
  {
   "cell_type": "code",
   "execution_count": 7,
   "id": "8d3f946f-818c-4deb-a6cf-e65d4baac2a2",
   "metadata": {},
   "outputs": [],
   "source": [
    "from project_configs import CocoCaptionsDataset as DatasetA, SocratisDataset as DatasetB"
   ]
  },
  {
   "cell_type": "markdown",
   "id": "ce89e269-afe7-44e7-9207-0a206b31b3ca",
   "metadata": {},
   "source": [
    "### Dataset A"
   ]
  },
  {
   "cell_type": "code",
   "execution_count": 8,
   "id": "c7520c35-e377-4ffd-84fc-cd7412da35cb",
   "metadata": {},
   "outputs": [],
   "source": [
    "coco_df = pd.read_csv('coco_predictions.csv')"
   ]
  },
  {
   "cell_type": "code",
   "execution_count": 9,
   "id": "355cac9b-0315-445c-8d85-c21cc3435930",
   "metadata": {},
   "outputs": [
    {
     "name": "stdout",
     "output_type": "stream",
     "text": [
      "loading configuration file cache\n",
      "loading weights file https://cdn.huggingface.co/unc-nlp/frcnn-vg-finetuned/pytorch_model.bin from cache at /home/ota231/.cache/torch/transformers/57f6df6abe353be2773f2700159c65615babf39ab5b48114d2b49267672ae10f.77b59256a4cf8343ae0f923246a81489fc8d82f98d082edc2d2037c977c0d9d0\n",
      "All model checkpoint weights were used when initializing GeneralizedRCNN.\n",
      "\n",
      "All the weights of GeneralizedRCNN were initialized from the model checkpoint at unc-nlp/frcnn-vg-finetuned.\n",
      "If your task is similar to the task the model of the checkpoint was trained on, you can already use GeneralizedRCNN for predictions without further training.\n"
     ]
    }
   ],
   "source": [
    "dataset_A = DatasetA(coco_df.sample(frac=0.1, random_state=42) )\n",
    "dataloader_A = DataLoader(dataset_A, batch_size=64, shuffle=False)"
   ]
  },
  {
   "cell_type": "markdown",
   "id": "bce4e0f2-d454-451d-8ddc-f9c6ab8a7e0c",
   "metadata": {},
   "source": [
    "### Dataset B"
   ]
  },
  {
   "cell_type": "code",
   "execution_count": 10,
   "id": "67ac1ea9-8eeb-439b-9ded-f1b92ccc0c12",
   "metadata": {},
   "outputs": [],
   "source": [
    "socratis_df = pd.read_csv('cleaned_data.csv')"
   ]
  },
  {
   "cell_type": "code",
   "execution_count": 11,
   "id": "167a3513-84f4-4417-b8e2-53edbb6e0661",
   "metadata": {},
   "outputs": [
    {
     "name": "stdout",
     "output_type": "stream",
     "text": [
      "loading configuration file cache\n",
      "loading weights file https://cdn.huggingface.co/unc-nlp/frcnn-vg-finetuned/pytorch_model.bin from cache at /home/ota231/.cache/torch/transformers/57f6df6abe353be2773f2700159c65615babf39ab5b48114d2b49267672ae10f.77b59256a4cf8343ae0f923246a81489fc8d82f98d082edc2d2037c977c0d9d0\n",
      "All model checkpoint weights were used when initializing GeneralizedRCNN.\n",
      "\n",
      "All the weights of GeneralizedRCNN were initialized from the model checkpoint at unc-nlp/frcnn-vg-finetuned.\n",
      "If your task is similar to the task the model of the checkpoint was trained on, you can already use GeneralizedRCNN for predictions without further training.\n"
     ]
    }
   ],
   "source": [
    "images_path = './images'\n",
    "dataset_B = DatasetB(socratis_df, images_path)\n",
    "dataloader_B = DataLoader(dataset_B, batch_size=64, shuffle=False)"
   ]
  },
  {
   "cell_type": "code",
   "execution_count": 12,
   "id": "134e3098-1ca3-4e74-b984-a2a9f46b89c7",
   "metadata": {},
   "outputs": [],
   "source": [
    "\"\"\"\n",
    "copies layer parameters from A to B, then freezes layers of B accordingly\n",
    "\"\"\"\n",
    "\n",
    "def freeze_and_copy_layers(model_A, model_B, model_A_path, model_B_path, freeze=True):\n",
    "    A_state_dict = torch.load(model_A_path)\n",
    "    model_B.load_state_dict(A_state_dict, strict=False)\n",
    "\n",
    "    # Freeze or unfreeze the layers based on the flag\n",
    "    for name, param in model_B.named_parameters():\n",
    "        if freeze and \"fc\" not in name:\n",
    "            param.requires_grad = False\n",
    "        else:\n",
    "            param.requires_grad = True\n",
    "\n",
    "    return model_B"
   ]
  },
  {
   "cell_type": "code",
   "execution_count": 13,
   "id": "93a4cf4c-3614-4542-a487-a735145301fa",
   "metadata": {},
   "outputs": [],
   "source": [
    "learning_rate = 0.1"
   ]
  },
  {
   "cell_type": "markdown",
   "id": "61fa6f13-ce31-41a7-9498-f3d1db052099",
   "metadata": {},
   "source": [
    "## Transfer Learning AnB"
   ]
  },
  {
   "cell_type": "code",
   "execution_count": 15,
   "id": "07a253e7-34fb-4225-8a8e-1d5437003670",
   "metadata": {},
   "outputs": [],
   "source": [
    "device = torch.device(\"cuda\" if torch.cuda.is_available() else \"cpu\")"
   ]
  },
  {
   "cell_type": "code",
   "execution_count": 16,
   "id": "2057cf20-8eeb-46c9-b70d-29ba670b28b1",
   "metadata": {},
   "outputs": [],
   "source": [
    "# model B's layers are frozen\n",
    "model_B = freeze_and_copy_layers(student_model, teacher_model, student_model_path, teacher_model_path, freeze=True)\n",
    "model_B = model_B.to(device)  "
   ]
  },
  {
   "cell_type": "code",
   "execution_count": 17,
   "id": "95a00d27-7198-4e23-ab77-30aba0bc9734",
   "metadata": {},
   "outputs": [],
   "source": [
    "optimizer = torch.optim.Adam(model_B.parameters(), lr=learning_rate)\n",
    "criterion = torch.nn.BCEWithLogitsLoss()"
   ]
  },
  {
   "cell_type": "code",
   "execution_count": 18,
   "id": "2b50cb95-02b9-4b04-b65b-df43c49fe3bd",
   "metadata": {},
   "outputs": [],
   "source": [
    "from tqdm import tqdm"
   ]
  },
  {
   "cell_type": "code",
   "execution_count": 19,
   "id": "6f48d357-7f9d-44db-aab5-00ada7a6e27b",
   "metadata": {},
   "outputs": [],
   "source": [
    "num_epochs = 10"
   ]
  },
  {
   "cell_type": "code",
   "execution_count": 20,
   "id": "ab004c04-eb73-4cab-882c-0002261cf668",
   "metadata": {},
   "outputs": [],
   "source": [
    "start_epoch = 0\n",
    "if os.path.isfile(\"anb_checkpoint.pth\"):\n",
    "    checkpoint = torch.load(\"anb_checkpoint.pth\")\n",
    "    model_B.load_state_dict(checkpoint['model_state_dict'])\n",
    "    optimizer.load_state_dict(checkpoint['optimizer_state_dict'])\n",
    "    start_epoch = checkpoint['epoch']\n",
    "    print(f\"Resuming training from epoch {start_epoch + 1}\")"
   ]
  },
  {
   "cell_type": "code",
   "execution_count": 22,
   "id": "b3ce1b1a-60d6-47f6-ab35-b655fe54cff0",
   "metadata": {},
   "outputs": [
    {
     "name": "stderr",
     "output_type": "stream",
     "text": [
      "Training:   0%|                                                     | 0/33 [00:00<?, ?it/s]/ext3/miniconda3/lib/python3.12/site-packages/torch/functional.py:507: UserWarning: torch.meshgrid: in an upcoming release, it will be required to pass the indexing argument. (Triggered internally at ../aten/src/ATen/native/TensorShape.cpp:3549.)\n",
      "  return _VF.meshgrid(tensors, **kwargs)  # type: ignore[attr-defined]\n",
      "Training: 100%|█████████████████████████| 33/33 [04:14<00:00,  7.71s/it, Loss (batch)=2.46]\n"
     ]
    },
    {
     "name": "stdout",
     "output_type": "stream",
     "text": [
      "Epoch 1, Loss: 7.71825326572765\n"
     ]
    },
    {
     "name": "stderr",
     "output_type": "stream",
     "text": [
      "Training: 100%|█████████████████████████| 33/33 [03:44<00:00,  6.80s/it, Loss (batch)=1.02]\n"
     ]
    },
    {
     "name": "stdout",
     "output_type": "stream",
     "text": [
      "Epoch 2, Loss: 1.735989718726187\n"
     ]
    },
    {
     "name": "stderr",
     "output_type": "stream",
     "text": [
      "Training: 100%|█████████████████████████| 33/33 [03:44<00:00,  6.80s/it, Loss (batch)=1.06]\n"
     ]
    },
    {
     "name": "stdout",
     "output_type": "stream",
     "text": [
      "Epoch 3, Loss: 1.1907941193291636\n"
     ]
    },
    {
     "name": "stderr",
     "output_type": "stream",
     "text": [
      "Training: 100%|████████████████████████| 33/33 [03:39<00:00,  6.66s/it, Loss (batch)=0.793]\n"
     ]
    },
    {
     "name": "stdout",
     "output_type": "stream",
     "text": [
      "Epoch 4, Loss: 0.9047453511844982\n"
     ]
    },
    {
     "name": "stderr",
     "output_type": "stream",
     "text": [
      "Training: 100%|████████████████████████| 33/33 [03:37<00:00,  6.59s/it, Loss (batch)=0.734]\n"
     ]
    },
    {
     "name": "stdout",
     "output_type": "stream",
     "text": [
      "Epoch 5, Loss: 1.0421886823394082\n"
     ]
    },
    {
     "name": "stderr",
     "output_type": "stream",
     "text": [
      "Training: 100%|████████████████████████| 33/33 [03:37<00:00,  6.58s/it, Loss (batch)=0.978]\n"
     ]
    },
    {
     "name": "stdout",
     "output_type": "stream",
     "text": [
      "Epoch 6, Loss: 1.0946602189179622\n"
     ]
    },
    {
     "name": "stderr",
     "output_type": "stream",
     "text": [
      "Training: 100%|██████████████████████████| 33/33 [03:36<00:00,  6.55s/it, Loss (batch)=1.2]\n"
     ]
    },
    {
     "name": "stdout",
     "output_type": "stream",
     "text": [
      "Epoch 7, Loss: 1.2177772503910642\n"
     ]
    },
    {
     "name": "stderr",
     "output_type": "stream",
     "text": [
      "Training: 100%|████████████████████████| 33/33 [03:36<00:00,  6.56s/it, Loss (batch)=0.887]\n"
     ]
    },
    {
     "name": "stdout",
     "output_type": "stream",
     "text": [
      "Epoch 8, Loss: 1.217276146917632\n"
     ]
    },
    {
     "name": "stderr",
     "output_type": "stream",
     "text": [
      "Training: 100%|█████████████████████████| 33/33 [03:37<00:00,  6.58s/it, Loss (batch)=1.28]\n"
     ]
    },
    {
     "name": "stdout",
     "output_type": "stream",
     "text": [
      "Epoch 9, Loss: 1.2876203620072566\n"
     ]
    },
    {
     "name": "stderr",
     "output_type": "stream",
     "text": [
      "Training: 100%|█████████████████████████| 33/33 [03:38<00:00,  6.61s/it, Loss (batch)=1.04]\n"
     ]
    },
    {
     "name": "stdout",
     "output_type": "stream",
     "text": [
      "Epoch 10, Loss: 1.3269359108173486\n"
     ]
    }
   ],
   "source": [
    "# Train teacher model\n",
    "model_B.train()\n",
    "\n",
    "for epoch in range(start_epoch, num_epochs):\n",
    "    running_loss = 0.0\n",
    "    \n",
    "    pbar = tqdm(enumerate(dataloader_B), total=len(dataloader_B), desc=\"Training\")\n",
    "    \n",
    "    for batch_idx, batch in pbar:\n",
    "        input_ids, token_type_ids, attention_mask, visual_embeds, visual_token_type_ids, visual_attention_mask, labels = batch\n",
    "    \n",
    "        input_ids = input_ids.to(device)\n",
    "        token_type_ids = token_type_ids.to(device)\n",
    "        attention_mask = attention_mask.to(device)\n",
    "        visual_embeds = visual_embeds.to(device)\n",
    "        visual_token_type_ids = visual_token_type_ids.to(device)\n",
    "        visual_attention_mask = visual_attention_mask.to(device)\n",
    "        labels = labels.to(device)\n",
    "    \n",
    "        # Zero the parameter gradients\n",
    "        optimizer.zero_grad()\n",
    "    \n",
    "        # Forward pass through student model\n",
    "        probabilities = model_B(input_ids, token_type_ids, attention_mask, visual_embeds, visual_token_type_ids, visual_attention_mask, labels)\n",
    "    \n",
    "        # Compute loss\n",
    "        loss = criterion(probabilities, labels)\n",
    "    \n",
    "        # Backward pass and optimize\n",
    "        loss.backward()\n",
    "        optimizer.step()\n",
    "    \n",
    "        running_loss += loss.item()\n",
    "    \n",
    "        # Update tqdm description with loss per batch\n",
    "        pbar.set_postfix({'Loss (batch)': loss.item()})\n",
    "    \n",
    "    # Print epoch loss\n",
    "    print(f\"Epoch {epoch+1}, Loss: {running_loss / len(dataloader_B)}\")\n",
    "    torch.save({\n",
    "        'epoch': epoch,\n",
    "        'model_state_dict': model_B.state_dict(),\n",
    "        'optimizer_state_dict': optimizer.state_dict(),\n",
    "    }, \"anb_checkpoint.pth\")"
   ]
  },
  {
   "cell_type": "code",
   "execution_count": 23,
   "id": "1409abce-5876-4f4d-8b04-67377fcbf30a",
   "metadata": {},
   "outputs": [],
   "source": [
    "# Save the trained model\n",
    "torch.save(model_B.state_dict(), \"transfer_anb.pth\")"
   ]
  },
  {
   "cell_type": "markdown",
   "id": "6d036499-e70d-4624-ba6d-950490c4e791",
   "metadata": {},
   "source": [
    "## Transfer Learning: AnB+"
   ]
  },
  {
   "cell_type": "code",
   "execution_count": 53,
   "id": "066e696f-142f-4a18-9d74-eea82fefb444",
   "metadata": {},
   "outputs": [],
   "source": [
    "# model B's layers are not frozen\n",
    "model_B = freeze_and_copy_layers(student_model, teacher_model, student_model_path, teacher_model_path, freeze=False)\n",
    "model_B = model_B.to(device)  "
   ]
  },
  {
   "cell_type": "code",
   "execution_count": 54,
   "id": "4faa06e4-c581-407b-8506-6e2c7b3bd969",
   "metadata": {},
   "outputs": [],
   "source": [
    "optimizer = torch.optim.Adam(model_B.parameters(), lr=learning_rate)\n",
    "criterion = torch.nn.BCEWithLogitsLoss()"
   ]
  },
  {
   "cell_type": "code",
   "execution_count": 55,
   "id": "af401594-4325-42ee-bf5c-f418a0308374",
   "metadata": {},
   "outputs": [],
   "source": [
    "num_epochs = 10"
   ]
  },
  {
   "cell_type": "code",
   "execution_count": 56,
   "id": "413a7a1b-a75f-4c27-b6e3-73eee5d3accf",
   "metadata": {},
   "outputs": [],
   "source": [
    "start_epoch = 0\n",
    "if os.path.isfile(\"anb+_checkpoint.pth\"):\n",
    "    checkpoint = torch.load(\"anb+_checkpoint.pth\")\n",
    "    model_B.load_state_dict(checkpoint['model_state_dict'])\n",
    "    optimizer.load_state_dict(checkpoint['optimizer_state_dict'])\n",
    "    start_epoch = checkpoint['epoch']\n",
    "    print(f\"Resuming training from epoch {start_epoch + 1}\")"
   ]
  },
  {
   "cell_type": "code",
   "execution_count": 57,
   "id": "7396c0fa-687a-44fe-b686-c38a5bfc95d6",
   "metadata": {},
   "outputs": [
    {
     "name": "stderr",
     "output_type": "stream",
     "text": [
      "Training: 100%|███████████████████████████| 33/33 [03:42<00:00,  6.74s/it, Loss (batch)=16]\n"
     ]
    },
    {
     "name": "stdout",
     "output_type": "stream",
     "text": [
      "Epoch 1, Loss: 33.32720889467181\n"
     ]
    },
    {
     "name": "stderr",
     "output_type": "stream",
     "text": [
      "Training: 100%|██████████████████████████| 33/33 [03:42<00:00,  6.75s/it, Loss (batch)=4.3]\n"
     ]
    },
    {
     "name": "stdout",
     "output_type": "stream",
     "text": [
      "Epoch 2, Loss: 8.59160405216795\n"
     ]
    },
    {
     "name": "stderr",
     "output_type": "stream",
     "text": [
      "Training: 100%|█████████████████████████| 33/33 [03:42<00:00,  6.74s/it, Loss (batch)=2.64]\n"
     ]
    },
    {
     "name": "stdout",
     "output_type": "stream",
     "text": [
      "Epoch 3, Loss: 3.567366361618042\n"
     ]
    },
    {
     "name": "stderr",
     "output_type": "stream",
     "text": [
      "Training: 100%|█████████████████████████| 33/33 [03:42<00:00,  6.74s/it, Loss (batch)=3.98]\n"
     ]
    },
    {
     "name": "stdout",
     "output_type": "stream",
     "text": [
      "Epoch 4, Loss: 3.361121062076453\n"
     ]
    },
    {
     "name": "stderr",
     "output_type": "stream",
     "text": [
      "Training: 100%|█████████████████████████| 33/33 [03:41<00:00,  6.72s/it, Loss (batch)=2.41]\n"
     ]
    },
    {
     "name": "stdout",
     "output_type": "stream",
     "text": [
      "Epoch 5, Loss: 3.1830804203495835\n"
     ]
    },
    {
     "name": "stderr",
     "output_type": "stream",
     "text": [
      "Training: 100%|█████████████████████████| 33/33 [03:41<00:00,  6.73s/it, Loss (batch)=2.46]\n"
     ]
    },
    {
     "name": "stdout",
     "output_type": "stream",
     "text": [
      "Epoch 6, Loss: 3.194024432789196\n"
     ]
    },
    {
     "name": "stderr",
     "output_type": "stream",
     "text": [
      "Training: 100%|█████████████████████████| 33/33 [03:42<00:00,  6.73s/it, Loss (batch)=2.55]\n"
     ]
    },
    {
     "name": "stdout",
     "output_type": "stream",
     "text": [
      "Epoch 7, Loss: 3.5096473115863223\n"
     ]
    },
    {
     "name": "stderr",
     "output_type": "stream",
     "text": [
      "Training: 100%|█████████████████████████| 33/33 [03:42<00:00,  6.73s/it, Loss (batch)=1.74]\n"
     ]
    },
    {
     "name": "stdout",
     "output_type": "stream",
     "text": [
      "Epoch 8, Loss: 3.0364832733616685\n"
     ]
    },
    {
     "name": "stderr",
     "output_type": "stream",
     "text": [
      "Training: 100%|█████████████████████████| 33/33 [03:41<00:00,  6.73s/it, Loss (batch)=2.78]\n"
     ]
    },
    {
     "name": "stdout",
     "output_type": "stream",
     "text": [
      "Epoch 9, Loss: 3.085678118647951\n"
     ]
    },
    {
     "name": "stderr",
     "output_type": "stream",
     "text": [
      "Training: 100%|█████████████████████████| 33/33 [03:42<00:00,  6.74s/it, Loss (batch)=2.56]\n"
     ]
    },
    {
     "name": "stdout",
     "output_type": "stream",
     "text": [
      "Epoch 10, Loss: 2.9846522013346353\n"
     ]
    }
   ],
   "source": [
    "# Train teacher model\n",
    "model_B.train()\n",
    "\n",
    "for epoch in range(start_epoch, num_epochs):\n",
    "    running_loss = 0.0\n",
    "    \n",
    "    pbar = tqdm(enumerate(dataloader_B), total=len(dataloader_B), desc=\"Training\")\n",
    "    \n",
    "    for batch_idx, batch in pbar:\n",
    "        input_ids, token_type_ids, attention_mask, visual_embeds, visual_token_type_ids, visual_attention_mask, labels = batch\n",
    "    \n",
    "        input_ids = input_ids.to(device)\n",
    "        token_type_ids = token_type_ids.to(device)\n",
    "        attention_mask = attention_mask.to(device)\n",
    "        visual_embeds = visual_embeds.to(device)\n",
    "        visual_token_type_ids = visual_token_type_ids.to(device)\n",
    "        visual_attention_mask = visual_attention_mask.to(device)\n",
    "        labels = labels.to(device)\n",
    "    \n",
    "        # Zero the parameter gradients\n",
    "        optimizer.zero_grad()\n",
    "    \n",
    "        # Forward pass through student model\n",
    "        probabilities = model_B(input_ids, token_type_ids, attention_mask, visual_embeds, visual_token_type_ids, visual_attention_mask, labels)\n",
    "    \n",
    "        # Compute loss\n",
    "        loss = criterion(probabilities, labels)\n",
    "    \n",
    "        # Backward pass and optimize\n",
    "        loss.backward()\n",
    "        optimizer.step()\n",
    "    \n",
    "        running_loss += loss.item()\n",
    "    \n",
    "        # Update tqdm description with loss per batch\n",
    "        pbar.set_postfix({'Loss (batch)': loss.item()})\n",
    "    \n",
    "    # Print epoch loss\n",
    "    print(f\"Epoch {epoch+1}, Loss: {running_loss / len(dataloader_B)}\")\n",
    "    torch.save({\n",
    "        'epoch': epoch,\n",
    "        'model_state_dict': model_B.state_dict(),\n",
    "        'optimizer_state_dict': optimizer.state_dict(),\n",
    "    }, \"anb+_checkpoint.pth\")"
   ]
  },
  {
   "cell_type": "code",
   "execution_count": 66,
   "id": "50dd33a8-ab46-4508-b666-3ed774326c67",
   "metadata": {},
   "outputs": [],
   "source": [
    "torch.save(model_B.state_dict(), \"transfer_anb+.pth\")"
   ]
  },
  {
   "cell_type": "markdown",
   "id": "4105f375-07c5-41c5-b239-77e607317e0c",
   "metadata": {},
   "source": [
    "## Loss Graph Comparison"
   ]
  },
  {
   "cell_type": "code",
   "execution_count": 58,
   "id": "24530422-3968-4a18-809c-ace426217b80",
   "metadata": {},
   "outputs": [],
   "source": [
    "import matplotlib.pyplot as plt"
   ]
  },
  {
   "cell_type": "code",
   "execution_count": 60,
   "id": "5f7cc164-c2e0-42ee-a643-fd52b80878b8",
   "metadata": {},
   "outputs": [
    {
     "data": {
      "image/png": "[encoded data removed]",
      "text/plain": [
       "<Figure size 1000x600 with 1 Axes>"
      ]
     },
     "metadata": {},
     "output_type": "display_data"
    }
   ],
   "source": [
    "anb_loss = [7.71825326572765, 1.735989718726187, 1.1907941193291636, 0.9047453511844982, 1.0421886823394082,\n",
    "            1.0946602189179622, 1.2177772503910642, 1.217276146917632, 1.2876203620072566, 1.3269359108173486]\n",
    "\n",
    "anb_plus_loss = [33.32720889467181, 8.59160405216795, 3.567366361618042, 3.361121062076453, 3.1830804203495835,\n",
    "                 3.194024432789196, 3.5096473115863223, 3.0364832733616685, 3.085678118647951, 2.9846522013346353]\n",
    "\n",
    "epochs = range(1, len(anb_loss) + 1)\n",
    "\n",
    "# Plotting\n",
    "plt.figure(figsize=(10, 6))\n",
    "\n",
    "plt.plot(epochs, anb_loss, 'b', label='ANB Loss')\n",
    "plt.plot(epochs, anb_plus_loss, 'r', label='ANB+ Loss')\n",
    "plt.title('ANB vs ANB+ Loss Over 10 Epochs')\n",
    "plt.xlabel('Epochs')\n",
    "plt.ylabel('Loss')\n",
    "plt.legend()\n",
    "plt.grid(True)\n",
    "\n",
    "plt.show()"
   ]
  },
  {
   "cell_type": "markdown",
   "id": "8abf8d87-6ae0-47a7-9a59-7dafde6f6275",
   "metadata": {},
   "source": [
    "## Metric Calculation"
   ]
  },
  {
   "cell_type": "markdown",
   "id": "90f6de6f-373b-4556-a250-61193f8f2c35",
   "metadata": {},
   "source": [
    "Top-k Accuracy:\n",
    "\n",
    "- For each sample, consider the top-k predicted labels.\n",
    "- Accuracy measures the proportion of samples for which at least one of the ground truth labels is among the top-k predicted labels.\n",
    "- It quantifies how many samples have at least one correct prediction among the top-k predictions.\n",
    "- Top-k Accuracy is calculated as the ratio of the number of samples with at least one correct prediction among the top-k predicted labels to the total number of samples.\n",
    "\n",
    "Top-3 Recall:\n",
    "\n",
    "- For each sample, consider the ground truth labels.\n",
    "- Recall measures the proportion of correct predictions among the ground truth labels.\n",
    "- It quantifies how many of the relevant (correct) labels were predicted among the top-3 predictions.\n",
    "- Top-3 Recall is calculated as the ratio of the number of relevant (correct) predictions to the total number of relevant (correct) labels (up to 3)."
   ]
  },
  {
   "cell_type": "code",
   "execution_count": 70,
   "id": "c75e8a4f-bb5c-4d56-84bf-9f28d9aea50f",
   "metadata": {},
   "outputs": [],
   "source": [
    "def calculate_top_metrics(model, dataloader, num_classes):\n",
    "    # Initialize variables to store correct predictions for top-1, top-2, and top-3\n",
    "    correct_top1 = 0\n",
    "    correct_top2 = 0\n",
    "    correct_top3 = 0\n",
    "    recall_top3 = 0\n",
    "\n",
    "\n",
    "    # Total number of samples\n",
    "    total = len(dataloader.dataset)\n",
    "\n",
    "    # Set model to evaluation mode\n",
    "    model.eval()\n",
    "    pbar = tqdm(enumerate(dataloader), total=len(dataloader), desc=\"Calculating metrics\")\n",
    "\n",
    "    # Iterate through the dataloader\n",
    "    for batch_idx, batch in pbar:\n",
    "        # Move inputs and labels to the appropriate device\n",
    "        input_ids, token_type_ids, attention_mask, visual_embeds, visual_token_type_ids, visual_attention_mask, labels = batch\n",
    "    \n",
    "        input_ids = input_ids.to(device)\n",
    "        token_type_ids = token_type_ids.to(device)\n",
    "        attention_mask = attention_mask.to(device)\n",
    "        visual_embeds = visual_embeds.to(device)\n",
    "        visual_token_type_ids = visual_token_type_ids.to(device)\n",
    "        visual_attention_mask = visual_attention_mask.to(device)\n",
    "        labels = labels.to(device)\n",
    "\n",
    "        # Forward pass\n",
    "        with torch.no_grad():\n",
    "            probabilities = model_B(input_ids, token_type_ids, attention_mask, visual_embeds, visual_token_type_ids, visual_attention_mask, labels)\n",
    "\n",
    "       # Find the top-3 predicted probabilities and corresponding labels\n",
    "        _, top3_indices = torch.topk(probabilities, 3, dim=1)\n",
    "\n",
    "        # Check if the highest probability matches any of the labels (top-1 accuracy)\n",
    "        correct_top1 += torch.sum(labels[torch.arange(len(labels)), top3_indices[:, 0]]).item()\n",
    "\n",
    "        # Check if any of the two highest probabilities match any of the labels (top-2 accuracy)\n",
    "        for i in range(len(labels)):\n",
    "            if any(labels[i, top3_indices[i, :2]] == 1):\n",
    "                correct_top2 += 1\n",
    "\n",
    "        # Check if any of the top-3 probabilities match any of the labels (top-3 accuracy)\n",
    "        for i in range(len(labels)):\n",
    "            if any(labels[i, top3_indices[i]] == 1):\n",
    "                correct_top3 += 1\n",
    "            recall_top3 += torch.sum(labels[i, top3_indices[i]] == 1).item()\n",
    "            \n",
    "    # Calculate top-1, top-2, and top-3 accuracy\n",
    "    top1_accuracy = correct_top1 / total\n",
    "    top2_accuracy = correct_top2 / total\n",
    "    top3_accuracy = correct_top3 / total\n",
    "\n",
    "    # Calculate top-3 recall\n",
    "    recall_top3 = recall_top3 / (3 * total)\n",
    "\n",
    "    # Return the results as a dictionary\n",
    "    results = {\n",
    "        \"top1_accuracy\": top1_accuracy,\n",
    "        \"top2_accuracy\": top2_accuracy,\n",
    "        \"top3_accuracy\": top3_accuracy,\n",
    "        \"recall_top3\": recall_top3\n",
    "    }\n",
    "\n",
    "    return results"
   ]
  },
  {
   "cell_type": "code",
   "execution_count": 80,
   "id": "ea8d612b-efbc-48b2-bd70-cf887d7d1314",
   "metadata": {},
   "outputs": [
    {
     "data": {
      "text/plain": [
       "<All keys matched successfully>"
      ]
     },
     "execution_count": 80,
     "metadata": {},
     "output_type": "execute_result"
    }
   ],
   "source": [
    "anb_model = TeacherModel(visualbert_model)\n",
    "checkpoint = torch.load(\"anb_checkpoint.pth\", map_location=torch.device('cpu'))\n",
    "anb_model.load_state_dict(checkpoint['model_state_dict'])"
   ]
  },
  {
   "cell_type": "code",
   "execution_count": 81,
   "id": "344e5e78-fcbf-41f2-8d24-c3fff77ae64d",
   "metadata": {},
   "outputs": [
    {
     "name": "stderr",
     "output_type": "stream",
     "text": [
      "Calculating metrics: 100%|█████████████████████████████████| 33/33 [03:37<00:00,  6.59s/it]\n"
     ]
    },
    {
     "data": {
      "text/plain": [
       "{'top1_accuracy': 0.07554479418886198,\n",
       " 'top2_accuracy': 0.12493946731234867,\n",
       " 'top3_accuracy': 0.17772397094430992,\n",
       " 'recall_top3': 0.06230831315577078}"
      ]
     },
     "execution_count": 81,
     "metadata": {},
     "output_type": "execute_result"
    }
   ],
   "source": [
    "anb_metrics = calculate_top_metrics(anb_model, dataloader_B, NUM_EMOTIONS)\n",
    "anb_metrics"
   ]
  },
  {
   "cell_type": "code",
   "execution_count": 82,
   "id": "ee4940eb-98c6-4044-b5b7-ae65eb80dc6f",
   "metadata": {},
   "outputs": [],
   "source": [
    "with open('anb_metrics.pkl', 'wb') as f:\n",
    "    pickle.dump(anb_metrics, f)"
   ]
  },
  {
   "cell_type": "code",
   "execution_count": 83,
   "id": "29c7d4f9-e1b8-4ef4-b275-45014f43d782",
   "metadata": {},
   "outputs": [
    {
     "data": {
      "text/plain": [
       "<All keys matched successfully>"
      ]
     },
     "execution_count": 83,
     "metadata": {},
     "output_type": "execute_result"
    }
   ],
   "source": [
    "anbp_model =  TeacherModel(visualbert_model)\n",
    "checkpoint = torch.load(\"anb+_checkpoint.pth\", map_location=torch.device('cpu'))\n",
    "anbp_model.load_state_dict(checkpoint['model_state_dict'])"
   ]
  },
  {
   "cell_type": "code",
   "execution_count": 84,
   "id": "2c587cd4-9e6e-494d-9954-741ad09fd395",
   "metadata": {},
   "outputs": [
    {
     "name": "stderr",
     "output_type": "stream",
     "text": [
      "Calculating metrics: 100%|█████████████████████████████████| 33/33 [03:37<00:00,  6.60s/it]\n"
     ]
    },
    {
     "data": {
      "text/plain": [
       "{'top1_accuracy': 0.09249394673123487,\n",
       " 'top2_accuracy': 0.24745762711864408,\n",
       " 'top3_accuracy': 0.3917675544794189,\n",
       " 'recall_top3': 0.15254237288135594}"
      ]
     },
     "execution_count": 84,
     "metadata": {},
     "output_type": "execute_result"
    }
   ],
   "source": [
    "anbp_metrics = calculate_top_metrics(anbp_model, dataloader_B, NUM_EMOTIONS)\n",
    "anbp_metrics"
   ]
  },
  {
   "cell_type": "code",
   "execution_count": 86,
   "id": "93901d7c-5ad9-4aa1-b84d-da45a23c42fd",
   "metadata": {},
   "outputs": [],
   "source": [
    "with open('anbp_metrics.pkl', 'wb') as f:\n",
    "    pickle.dump(anb_metrics, f)"
   ]
  },
  {
   "cell_type": "code",
   "execution_count": 89,
   "id": "9a1dcdcd-d81c-48fc-91e0-af27d1b7aba4",
   "metadata": {},
   "outputs": [
    {
     "data": {
      "image/png": "[encoded data removed]",
      "text/plain": [
       "<Figure size 640x480 with 1 Axes>"
      ]
     },
     "metadata": {},
     "output_type": "display_data"
    }
   ],
   "source": [
    "# Define the metric names\n",
    "metric_names = list(anb_metrics.keys())\n",
    "\n",
    "# Get the metric values for anb and anb+\n",
    "anb_values = [anb_metrics[metric] for metric in metric_names]\n",
    "anbp_values = [anbp_metrics[metric] for metric in metric_names]\n",
    "\n",
    "# Set the width of the bars\n",
    "bar_width = 0.35\n",
    "\n",
    "# Set the x locations for the groups\n",
    "x = np.arange(len(metric_names))\n",
    "\n",
    "# Plot the metrics side by side\n",
    "fig, ax = plt.subplots()\n",
    "bars1 = ax.bar(x - bar_width/2, anb_values, bar_width, label='anb')\n",
    "bars2 = ax.bar(x + bar_width/2, anbp_values, bar_width, label='anb+')\n",
    "\n",
    "# Add labels, title, and legend\n",
    "ax.set_xlabel('Metrics')\n",
    "ax.set_ylabel('Values')\n",
    "ax.set_title('Comparison of Metrics between anb and anb+')\n",
    "ax.set_xticks(x)\n",
    "ax.set_xticklabels(metric_names)\n",
    "ax.legend()\n",
    "\n",
    "# Show the plot\n",
    "plt.show()"
   ]
  },
  {
   "cell_type": "code",
   "execution_count": null,
   "id": "2bca687c-fa27-4752-bd6e-1744f32d02be",
   "metadata": {},
   "outputs": [],
   "source": []
  }
 ],
 "metadata": {
  "kernelspec": {
   "display_name": "My Custom Env",
   "language": "python",
   "name": "pytorch_env"
  },
  "language_info": {
   "codemirror_mode": {
    "name": "ipython",
    "version": 3
   },
   "file_extension": ".py",
   "mimetype": "text/x-python",
   "name": "python",
   "nbconvert_exporter": "python",
   "pygments_lexer": "ipython3",
   "version": "3.12.1"
  }
 },
 "nbformat": 4,
 "nbformat_minor": 5
}
